{
 "cells": [
  {
   "cell_type": "code",
   "execution_count": null,
   "id": "f61152e0",
   "metadata": {},
   "outputs": [],
   "source": [
    "import pandas as pd\n",
    "from data_loading import DataLoader\n",
    "from preprocess import ConvertToMarkdown, SplitDocuments\n",
    "from openai_utils import OpenAIEmbeddingClient, GenerateEmbeddings\n",
    "from pinecone_utils import PineconeIndexClient, IngestEmbeddingsToPinecone\n",
    "from oab_test_utils import OABTestFormatter, OABAnswersFormatter, OABTestFormatter41, OABAnswersFormatter43, OABAnswersFormatter39, OABQuestionAnswerFormatter\n",
    "import os\n",
    "from dotenv import load_dotenv\n",
    "from pprint import pprint\n",
    "import sys\n",
    "sys.path.append(os.path.abspath(os.path.join('D:\\\\Users\\\\Gabriel\\\\Desktop\\\\GIT\\\\pinecone-ingestor')))\n",
    "from utils.mongo_utils import ConnectAndInsertData"
   ]
  },
  {
   "cell_type": "code",
   "execution_count": null,
   "id": "7663e623",
   "metadata": {},
   "outputs": [],
   "source": [
    "numero_prova = '39'"
   ]
  },
  {
   "cell_type": "code",
   "execution_count": null,
   "id": "c9995167",
   "metadata": {},
   "outputs": [],
   "source": [
    "gabarito_oab = ConvertToMarkdown(DataLoader(f'D:\\\\Users\\\\Gabriel\\\\Desktop\\\\GIT\\\\pinecone-ingestor\\\\documentos_ingest\\\\provas\\\\{numero_prova}_gabarito.pdf'))\n",
    "prova_oab = ConvertToMarkdown(DataLoader(f'D:\\\\Users\\\\Gabriel\\\\Desktop\\\\GIT\\\\pinecone-ingestor\\\\documentos_ingest\\\\provas\\\\{numero_prova}_prova.pdf'))\n",
    "nome_prova = 'prova' + numero_prova"
   ]
  },
  {
   "cell_type": "code",
   "execution_count": null,
   "id": "dbcf0f10",
   "metadata": {},
   "outputs": [],
   "source": [
    "if numero_prova == '41':\n",
    "    prova_formatada = OABTestFormatter41(prova_oab, nome_prova)[0:79]\n",
    "else:\n",
    "    prova_formatada = OABTestFormatter(prova_oab, nome_prova)[0:79]\n",
    "print(prova_formatada)"
   ]
  },
  {
   "cell_type": "code",
   "execution_count": null,
   "id": "cb9ae41c",
   "metadata": {},
   "outputs": [],
   "source": [
    "for item in prova_formatada:\n",
    "    ConnectAndInsertData(db_name=\"blooming\",collection_name=\"provas_oab\",data=item, mongo_password=\"bloomingmongopass\")"
   ]
  }
 ],
 "metadata": {
  "kernelspec": {
   "display_name": "pinecone-ingestor-env",
   "language": "python",
   "name": "python3"
  },
  "language_info": {
   "codemirror_mode": {
    "name": "ipython",
    "version": 3
   },
   "file_extension": ".py",
   "mimetype": "text/x-python",
   "name": "python",
   "nbconvert_exporter": "python",
   "pygments_lexer": "ipython3",
   "version": "3.9.6"
  }
 },
 "nbformat": 4,
 "nbformat_minor": 5
}
