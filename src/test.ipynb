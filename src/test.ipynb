{
 "cells": [
  {
   "cell_type": "code",
   "execution_count": null,
   "id": "58a5025a",
   "metadata": {},
   "outputs": [
    {
     "data": {
      "text/plain": [
       "True"
      ]
     },
     "execution_count": 7,
     "metadata": {},
     "output_type": "execute_result"
    }
   ],
   "source": [
    "from data_loading import DataLoader\n",
    "from preprocess import ConvertToMarkdown, SplitDocuments\n",
    "from openai_utils import OpenAIEmbeddingClient, GenerateEmbeddings\n",
    "from pinecone_utils import PineconeIndexClient, IngestEmbeddingsToPinecone\n",
    "import os\n",
    "from dotenv import load_dotenv"
   ]
  },
  {
   "cell_type": "code",
   "execution_count": 10,
   "id": "648fde05",
   "metadata": {},
   "outputs": [
    {
     "name": "stdout",
     "output_type": "stream",
     "text": [
      "🚀 Iniciando o pipeline de ingestão...\n"
     ]
    }
   ],
   "source": [
    "# Carrega variáveis de ambiente\n",
    "load_dotenv()\n",
    "PINECONE_API_KEY = os.getenv(\"PINECONE_API_KEY\")\n",
    "PINECONE_ENVIRONMENT = os.getenv(\"PINECONE_ENVIRONMENT_REGION\")\n",
    "PINECONE_INDEX_NAME = os.getenv(\"PINECONE_INDEX_NAME\")\n",
    "OPENAI_API_KEY = os.getenv(\"OPENAI_API_KEY\")\n",
    "PDF_PATH = os.getenv(\"PDF_PATH\")\n",
    "PINECONE_NAMESPACE = os.getenv(\"PINECONE_NAMESPACE\")\n",
    "\n",
    "print(\"🚀 Iniciando o pipeline de ingestão...\")\n"
   ]
  },
  {
   "cell_type": "code",
   "execution_count": 11,
   "id": "62d72741",
   "metadata": {},
   "outputs": [
    {
     "name": "stdout",
     "output_type": "stream",
     "text": [
      "Carregando o PDF...\n",
      "Convertendo para Markdown...\n",
      "Dividindo em chunks...\n",
      "Gerando embeddings...\n"
     ]
    }
   ],
   "source": [
    "# 1. Carregar o PDF\n",
    "print(\"Carregando o PDF...\")\n",
    "raw_documents = DataLoader(PDF_PATH)\n",
    "\n",
    "# 2. Converter para Markdown enriquecido\n",
    "print(\"Convertendo para Markdown...\")\n",
    "markdown_documents = ConvertToMarkdown(raw_documents)\n",
    "\n",
    "# 3. Split em chunks\n",
    "print(\"Dividindo em chunks...\")\n",
    "chunks = SplitDocuments(markdown_documents)\n",
    "\n",
    "# 4. Gerar embeddings com OpenAI\n",
    "print(\"Gerando embeddings...\")\n",
    "client = OpenAIEmbeddingClient(OPENAI_API_KEY)\n",
    "embeddings = GenerateEmbeddings(chunks, client)"
   ]
  },
  {
   "cell_type": "code",
   "execution_count": 12,
   "id": "2271431d",
   "metadata": {},
   "outputs": [
    {
     "name": "stdout",
     "output_type": "stream",
     "text": [
      "Conectando ao Pinecone...\n"
     ]
    }
   ],
   "source": [
    "# 5. Ingestão no Pinecone\n",
    "print(\"Conectando ao Pinecone...\")\n",
    "index = PineconeIndexClient(PINECONE_API_KEY, PINECONE_ENVIRONMENT, PINECONE_INDEX_NAME)"
   ]
  },
  {
   "cell_type": "code",
   "execution_count": 13,
   "id": "cd9f8c45",
   "metadata": {},
   "outputs": [
    {
     "name": "stdout",
     "output_type": "stream",
     "text": [
      "Enviando dados ao Pinecone...\n",
      "Unexpected exception formatting exception. Falling back to standard exception\n"
     ]
    },
    {
     "name": "stderr",
     "output_type": "stream",
     "text": [
      "Traceback (most recent call last):\n",
      "  File \"d:\\Users\\Gabriel\\Desktop\\GIT\\pinecone-ingestor\\pinecone-ingestor-env\\lib\\site-packages\\IPython\\core\\interactiveshell.py\", line 3550, in run_code\n",
      "    exec(code_obj, self.user_global_ns, self.user_ns)\n",
      "  File \"C:\\Users\\Gabriel\\AppData\\Local\\Temp\\ipykernel_29592\\2354925598.py\", line 3, in <module>\n",
      "    IngestEmbeddingsToPinecone(index, embeddings, PINECONE_NAMESPACE)\n",
      "  File \"d:\\Users\\Gabriel\\Desktop\\GIT\\pinecone-ingestor\\src\\pinecone_utils.py\", line 39, in IngestEmbeddingsToPinecone\n",
      "  File \"d:\\Users\\Gabriel\\Desktop\\GIT\\pinecone-ingestor\\pinecone-ingestor-env\\lib\\site-packages\\pinecone\\utils\\error_handling.py\", line 30, in inner_func\n",
      "    raise e from e\n",
      "  File \"d:\\Users\\Gabriel\\Desktop\\GIT\\pinecone-ingestor\\pinecone-ingestor-env\\lib\\site-packages\\pinecone\\utils\\error_handling.py\", line 15, in inner_func\n",
      "    return func(*args, **kwargs)\n",
      "  File \"d:\\Users\\Gabriel\\Desktop\\GIT\\pinecone-ingestor\\pinecone-ingestor-env\\lib\\site-packages\\pinecone\\db_data\\index.py\", line 188, in upsert\n",
      "    return self._upsert_batch(vectors, namespace, _check_type, **kwargs)\n",
      "  File \"d:\\Users\\Gabriel\\Desktop\\GIT\\pinecone-ingestor\\pinecone-ingestor-env\\lib\\site-packages\\pinecone\\db_data\\index.py\", line 214, in _upsert_batch\n",
      "    return self._vector_api.upsert_vectors(\n",
      "  File \"d:\\Users\\Gabriel\\Desktop\\GIT\\pinecone-ingestor\\pinecone-ingestor-env\\lib\\site-packages\\pinecone\\openapi_support\\endpoint.py\", line 102, in __call__\n",
      "    return self.callable(self, *args, **kwargs)\n",
      "  File \"d:\\Users\\Gabriel\\Desktop\\GIT\\pinecone-ingestor\\pinecone-ingestor-env\\lib\\site-packages\\pinecone\\core\\openapi\\db_data\\api\\vector_operations_api.py\", line 675, in __upsert_vectors\n",
      "    return self.call_with_http_info(**kwargs)\n",
      "  File \"d:\\Users\\Gabriel\\Desktop\\GIT\\pinecone-ingestor\\pinecone-ingestor-env\\lib\\site-packages\\pinecone\\openapi_support\\endpoint.py\", line 134, in call_with_http_info\n",
      "    return self.api_client.call_api(\n",
      "  File \"d:\\Users\\Gabriel\\Desktop\\GIT\\pinecone-ingestor\\pinecone-ingestor-env\\lib\\site-packages\\pinecone\\openapi_support\\api_client.py\", line 306, in call_api\n",
      "    return self.__call_api(\n",
      "  File \"d:\\Users\\Gabriel\\Desktop\\GIT\\pinecone-ingestor\\pinecone-ingestor-env\\lib\\site-packages\\pinecone\\openapi_support\\api_client.py\", line 182, in __call_api\n",
      "    raise e\n",
      "  File \"d:\\Users\\Gabriel\\Desktop\\GIT\\pinecone-ingestor\\pinecone-ingestor-env\\lib\\site-packages\\pinecone\\openapi_support\\api_client.py\", line 170, in __call_api\n",
      "    response_data = self.request(\n",
      "  File \"d:\\Users\\Gabriel\\Desktop\\GIT\\pinecone-ingestor\\pinecone-ingestor-env\\lib\\site-packages\\pinecone\\openapi_support\\api_client.py\", line 386, in request\n",
      "    return self.rest_client.POST(\n",
      "  File \"d:\\Users\\Gabriel\\Desktop\\GIT\\pinecone-ingestor\\pinecone-ingestor-env\\lib\\site-packages\\pinecone\\openapi_support\\rest_utils.py\", line 146, in POST\n",
      "    return self.request(\n",
      "  File \"d:\\Users\\Gabriel\\Desktop\\GIT\\pinecone-ingestor\\pinecone-ingestor-env\\lib\\site-packages\\pinecone\\openapi_support\\rest_urllib3.py\", line 267, in request\n",
      "    return raise_exceptions_or_return(r)\n",
      "  File \"d:\\Users\\Gabriel\\Desktop\\GIT\\pinecone-ingestor\\pinecone-ingestor-env\\lib\\site-packages\\pinecone\\openapi_support\\rest_utils.py\", line 49, in raise_exceptions_or_return\n",
      "    raise PineconeApiException(http_resp=r)\n",
      "pinecone.exceptions.exceptions.PineconeApiException: (400)\n",
      "Reason: Bad Request\n",
      "HTTP response headers: HTTPHeaderDict({'Date': 'Sun, 01 Jun 2025 22:35:26 GMT', 'Content-Type': 'application/json', 'Content-Length': '94', 'Connection': 'keep-alive', 'x-pinecone-request-latency-ms': '3686', 'x-pinecone-request-id': '1877462854064461182', 'x-envoy-upstream-service-time': '44', 'server': 'envoy'})\n",
      "HTTP response body: {\"code\":3,\"message\":\"Request size 3MB exceeds the maximum supported size of 2MB\",\"details\":[]}\n",
      "\n",
      "\n",
      "During handling of the above exception, another exception occurred:\n",
      "\n",
      "Traceback (most recent call last):\n",
      "  File \"d:\\Users\\Gabriel\\Desktop\\GIT\\pinecone-ingestor\\pinecone-ingestor-env\\lib\\site-packages\\IPython\\core\\interactiveshell.py\", line 2144, in showtraceback\n",
      "    stb = self.InteractiveTB.structured_traceback(\n",
      "  File \"d:\\Users\\Gabriel\\Desktop\\GIT\\pinecone-ingestor\\pinecone-ingestor-env\\lib\\site-packages\\IPython\\core\\ultratb.py\", line 1435, in structured_traceback\n",
      "    return FormattedTB.structured_traceback(\n",
      "  File \"d:\\Users\\Gabriel\\Desktop\\GIT\\pinecone-ingestor\\pinecone-ingestor-env\\lib\\site-packages\\IPython\\core\\ultratb.py\", line 1326, in structured_traceback\n",
      "    return VerboseTB.structured_traceback(\n",
      "  File \"d:\\Users\\Gabriel\\Desktop\\GIT\\pinecone-ingestor\\pinecone-ingestor-env\\lib\\site-packages\\IPython\\core\\ultratb.py\", line 1173, in structured_traceback\n",
      "    formatted_exception = self.format_exception_as_a_whole(etype, evalue, etb, number_of_lines_of_context,\n",
      "  File \"d:\\Users\\Gabriel\\Desktop\\GIT\\pinecone-ingestor\\pinecone-ingestor-env\\lib\\site-packages\\IPython\\core\\ultratb.py\", line 1088, in format_exception_as_a_whole\n",
      "    frames.append(self.format_record(record))\n",
      "  File \"d:\\Users\\Gabriel\\Desktop\\GIT\\pinecone-ingestor\\pinecone-ingestor-env\\lib\\site-packages\\IPython\\core\\ultratb.py\", line 970, in format_record\n",
      "    frame_info.lines, Colors, self.has_colors, lvals\n",
      "  File \"d:\\Users\\Gabriel\\Desktop\\GIT\\pinecone-ingestor\\pinecone-ingestor-env\\lib\\site-packages\\IPython\\core\\ultratb.py\", line 792, in lines\n",
      "    return self._sd.lines\n",
      "  File \"d:\\Users\\Gabriel\\Desktop\\GIT\\pinecone-ingestor\\pinecone-ingestor-env\\lib\\site-packages\\stack_data\\utils.py\", line 145, in cached_property_wrapper\n",
      "    value = obj.__dict__[self.func.__name__] = self.func(obj)\n",
      "  File \"d:\\Users\\Gabriel\\Desktop\\GIT\\pinecone-ingestor\\pinecone-ingestor-env\\lib\\site-packages\\stack_data\\core.py\", line 734, in lines\n",
      "    pieces = self.included_pieces\n",
      "  File \"d:\\Users\\Gabriel\\Desktop\\GIT\\pinecone-ingestor\\pinecone-ingestor-env\\lib\\site-packages\\stack_data\\utils.py\", line 145, in cached_property_wrapper\n",
      "    value = obj.__dict__[self.func.__name__] = self.func(obj)\n",
      "  File \"d:\\Users\\Gabriel\\Desktop\\GIT\\pinecone-ingestor\\pinecone-ingestor-env\\lib\\site-packages\\stack_data\\core.py\", line 681, in included_pieces\n",
      "    pos = scope_pieces.index(self.executing_piece)\n",
      "  File \"d:\\Users\\Gabriel\\Desktop\\GIT\\pinecone-ingestor\\pinecone-ingestor-env\\lib\\site-packages\\stack_data\\utils.py\", line 145, in cached_property_wrapper\n",
      "    value = obj.__dict__[self.func.__name__] = self.func(obj)\n",
      "  File \"d:\\Users\\Gabriel\\Desktop\\GIT\\pinecone-ingestor\\pinecone-ingestor-env\\lib\\site-packages\\stack_data\\core.py\", line 660, in executing_piece\n",
      "    return only(\n",
      "  File \"d:\\Users\\Gabriel\\Desktop\\GIT\\pinecone-ingestor\\pinecone-ingestor-env\\lib\\site-packages\\executing\\executing.py\", line 116, in only\n",
      "    raise NotOneValueFound('Expected one value, found 0')\n",
      "executing.executing.NotOneValueFound: Expected one value, found 0\n"
     ]
    }
   ],
   "source": [
    "print(\"Enviando dados ao Pinecone...\")\n",
    "\n",
    "IngestEmbeddingsToPinecone(index, embeddings, PINECONE_NAMESPACE)\n",
    "\n",
    "print(\"Pipeline finalizado com sucesso!\")"
   ]
  }
 ],
 "metadata": {
  "kernelspec": {
   "display_name": "pinecone-ingestor-env",
   "language": "python",
   "name": "python3"
  },
  "language_info": {
   "codemirror_mode": {
    "name": "ipython",
    "version": 3
   },
   "file_extension": ".py",
   "mimetype": "text/x-python",
   "name": "python",
   "nbconvert_exporter": "python",
   "pygments_lexer": "ipython3",
   "version": "3.9.6"
  }
 },
 "nbformat": 4,
 "nbformat_minor": 5
}
