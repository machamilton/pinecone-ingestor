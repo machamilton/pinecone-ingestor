{
 "cells": [
  {
   "cell_type": "code",
   "execution_count": 2,
   "id": "58a5025a",
   "metadata": {},
   "outputs": [],
   "source": [
    "from data_loading import DataLoader\n",
    "from preprocess import ConvertToMarkdown, SplitDocuments\n",
    "from openai_utils import OpenAIEmbeddingClient, GenerateEmbeddings\n",
    "from pinecone_utils import PineconeIndexClient, IngestEmbeddingsToPinecone\n",
    "import os\n",
    "from dotenv import load_dotenv"
   ]
  },
  {
   "cell_type": "code",
   "execution_count": 3,
   "id": "648fde05",
   "metadata": {},
   "outputs": [
    {
     "name": "stdout",
     "output_type": "stream",
     "text": [
      "🚀 Iniciando o pipeline de ingestão...\n"
     ]
    }
   ],
   "source": [
    "# Carrega variáveis de ambiente\n",
    "load_dotenv()\n",
    "PINECONE_API_KEY = os.getenv(\"PINECONE_API_KEY\")\n",
    "PINECONE_ENVIRONMENT = os.getenv(\"PINECONE_ENVIRONMENT_REGION\")\n",
    "PINECONE_INDEX_NAME = os.getenv(\"PINECONE_INDEX_NAME\")\n",
    "OPENAI_API_KEY = os.getenv(\"OPENAI_API_KEY\")\n",
    "PDF_PATH = os.getenv(\"PDF_PATH\")\n",
    "PINECONE_NAMESPACE = os.getenv(\"PINECONE_NAMESPACE\")\n",
    "\n",
    "print(\"🚀 Iniciando o pipeline de ingestão...\")\n"
   ]
  },
  {
   "cell_type": "code",
   "execution_count": 4,
   "id": "62d72741",
   "metadata": {},
   "outputs": [
    {
     "name": "stdout",
     "output_type": "stream",
     "text": [
      "Carregando o PDF...\n",
      "Convertendo para Markdown...\n",
      "Dividindo em chunks...\n",
      "Tamanho chunks:  14646\n",
      "Tamanho do texto:  944\n"
     ]
    }
   ],
   "source": [
    "# 1. Carregar o PDF\n",
    "print(\"Carregando o PDF...\")\n",
    "raw_documents = DataLoader(PDF_PATH)\n",
    "\n",
    "# 2. Converter para Markdown enriquecido\n",
    "print(\"Convertendo para Markdown...\")\n",
    "markdown_documents = ConvertToMarkdown(raw_documents)\n",
    "\n",
    "# 3. Split em chunks\n",
    "print(\"Dividindo em chunks...\")\n",
    "chunks = SplitDocuments(markdown_documents)\n",
    "\n",
    "print('Tamanho chunks: ', len(chunks))\n",
    "print('Tamanho do texto: ', len(markdown_documents))\n",
    "\n",
    "\n",
    "# 4. Gerar embeddings com OpenAI\n",
    "#print(\"Gerando embeddings...\")\n",
    "#client = OpenAIEmbeddingClient(OPENAI_API_KEY)\n",
    "#embeddings = GenerateEmbeddings(chunks, client)"
   ]
  },
  {
   "cell_type": "code",
   "execution_count": 8,
   "id": "73505cf7",
   "metadata": {},
   "outputs": [
    {
     "name": "stdout",
     "output_type": "stream",
     "text": [
      "{'id': '373a2281-33cf-4ba5-98fb-cdbd7a183c30', 'text': 'solicitações de isenção da taxa 05/02/2025\\nResultado definitivo da análise de solicitações de isenção da taxa 25/02/2025\\nPrazo limite para pagamento da taxa de inscrição 28/03/2025\\nPublicação do Edital complementar (reaproveitamento da 1ª fase) 10/03/2025\\nDivulgação dos locais de realização da prova objetiva 16/04/2025\\nRealização da 1 ª fase (prova objetiva) 27/04/2025\\nDivulgação do gabarito preliminar da prova objetiva 27/04/2025'}\n"
     ]
    }
   ],
   "source": [
    "print(chunks[369])"
   ]
  },
  {
   "cell_type": "code",
   "execution_count": 12,
   "id": "bca41684",
   "metadata": {},
   "outputs": [
    {
     "name": "stdout",
     "output_type": "stream",
     "text": [
      "✅ Texto encontrado no chunk 369\n",
      "[369]\n"
     ]
    }
   ],
   "source": [
    "encontrados = []\n",
    "texto_alvo = 'Realização da 1 ª fase (prova objetiva)'\n",
    "for i, chunk in enumerate(chunks):\n",
    "    if texto_alvo.lower() in chunk['text'].lower():  # compara de forma case-insensitive\n",
    "        print(f\"✅ Texto encontrado no chunk {i}\")\n",
    "        encontrados.append(i)\n",
    "\n",
    "if not encontrados:\n",
    "    print(\"⚠️ Texto não encontrado em nenhum chunk.\")\n",
    "\n",
    "print(encontrados)"
   ]
  },
  {
   "cell_type": "code",
   "execution_count": null,
   "id": "8cb1af9c",
   "metadata": {},
   "outputs": [],
   "source": [
    "print(embeddings)"
   ]
  },
  {
   "cell_type": "code",
   "execution_count": null,
   "id": "2271431d",
   "metadata": {},
   "outputs": [],
   "source": [
    "# 5. Ingestão no Pinecone\n",
    "print(\"Conectando ao Pinecone...\")\n",
    "index = PineconeIndexClient(PINECONE_API_KEY, PINECONE_ENVIRONMENT, PINECONE_INDEX_NAME)"
   ]
  },
  {
   "cell_type": "code",
   "execution_count": null,
   "id": "cd9f8c45",
   "metadata": {},
   "outputs": [],
   "source": [
    "print(\"Enviando dados ao Pinecone...\")\n",
    "\n",
    "IngestEmbeddingsToPinecone(index, embeddings, PINECONE_NAMESPACE)\n",
    "\n",
    "print(\"Pipeline finalizado com sucesso!\")"
   ]
  }
 ],
 "metadata": {
  "kernelspec": {
   "display_name": "pinecone-ingestor-env",
   "language": "python",
   "name": "python3"
  },
  "language_info": {
   "codemirror_mode": {
    "name": "ipython",
    "version": 3
   },
   "file_extension": ".py",
   "mimetype": "text/x-python",
   "name": "python",
   "nbconvert_exporter": "python",
   "pygments_lexer": "ipython3",
   "version": "3.9.6"
  }
 },
 "nbformat": 4,
 "nbformat_minor": 5
}
