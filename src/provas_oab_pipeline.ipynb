{
 "cells": [
  {
   "cell_type": "code",
   "execution_count": 84,
   "id": "0a0dd3c2",
   "metadata": {},
   "outputs": [],
   "source": [
    "import pandas as pd\n",
    "from data_loading import DataLoader\n",
    "from preprocess import ConvertToMarkdown, SplitDocuments\n",
    "from openai_utils import OpenAIEmbeddingClient, GenerateEmbeddings\n",
    "from pinecone_utils import PineconeIndexClient, IngestEmbeddingsToPinecone\n",
    "import os\n",
    "from dotenv import load_dotenv"
   ]
  },
  {
   "cell_type": "code",
   "execution_count": 97,
   "id": "9d3ef3c1",
   "metadata": {},
   "outputs": [],
   "source": [
    "def GabaritoFormatter(gabarito_raw):\n",
    "    first_page_content = gabarito_raw[0].lower().split(\"exame de ordem unificado - \")[1]\n",
    "    first_page_clean = first_page_content.replace('##','').replace('(*) questão anulada', '')\n",
    "    lines = first_page_clean.split('\\n')\n",
    "    # Removendo lixo no 1o e último itens da lista\n",
    "    lines = lines[1:-1]\n",
    "    lines_trimmed = []\n",
    "    for line in lines:\n",
    "        line_trimmed = line.strip()\n",
    "        lines_trimmed.append(line_trimmed)\n",
    "    \n",
    "    questions = []\n",
    "    answers = []\n",
    "    # Processa a lista em pares: numeração (linha par) e gabarito (linha ímpar)\n",
    "    for i in range(0, len(lines_trimmed), 2):\n",
    "        numbers = lines_trimmed[i].split()\n",
    "        leters = lines_trimmed[i+1].split()\n",
    "        \n",
    "        for number, leter in zip(numbers, leters):\n",
    "            if leter == '*':\n",
    "                leter = 'ANULADA'\n",
    "            questions.append(int(number))\n",
    "            answers.append(leter)\n",
    "\n",
    "    # Cria o DataFrame\n",
    "    df = pd.DataFrame({\n",
    "        'questao': questions,\n",
    "        'resposta': answers\n",
    "    })\n",
    "\n",
    "    # Ordena por número da questão\n",
    "    df = df.sort_values(by='questao').reset_index(drop=True)\n",
    "    return df"
   ]
  },
  {
   "cell_type": "code",
   "execution_count": 87,
   "id": "c8e50ffd",
   "metadata": {},
   "outputs": [],
   "source": [
    "prova_oab = ConvertToMarkdown(DataLoader('D:\\\\Users\\\\Gabriel\\\\Desktop\\\\GIT\\\\pinecone-ingestor\\\\documentos_ingest\\\\provas\\\\40_prova.pdf'))\n",
    "gabarito_oab = ConvertToMarkdown(DataLoader('D:\\\\Users\\\\Gabriel\\\\Desktop\\\\GIT\\\\pinecone-ingestor\\\\documentos_ingest\\\\provas\\\\40_gabarito.pdf'))"
   ]
  },
  {
   "cell_type": "code",
   "execution_count": 96,
   "id": "2a2b31ef",
   "metadata": {},
   "outputs": [
    {
     "name": "stdout",
     "output_type": "stream",
     "text": [
      "['1 2 3 4 5 6 7 8 9 10 11 12 13 14 15 16 17 18 19 20', ' b c a c * c d a b c b d b b b d a b d a', '21 22 23 24 25 26 27 28 29 30 31 32 33 34 35 36 37 38 39 40', ' d b a c a c d d b c d b d d a c b c c b', '41 42 43 44 45 46 47 48 49 50 51 52 53 54 55 56 57 58 59 60', ' c a d c d c b a a c b d b a d c a b d a', '61 62 63 64 65 66 67 68 69 70 71 72 73 74 75 76 77 78 79 80', ' d a c c a b a b c a b a c d d d c c b a', '']\n"
     ]
    }
   ],
   "source": [
    "first_page_content = gabarito_oab[0].lower().split(\"exame de ordem unificado - \")[1]\n",
    "first_page_clean = first_page_content.replace('##','').replace('(*) questão anulada', '')\n",
    "lines = first_page_clean.split('\\n')\n",
    "lines = lines[1:-1]\n",
    "print(lines)"
   ]
  },
  {
   "cell_type": "code",
   "execution_count": 99,
   "id": "7439d787",
   "metadata": {},
   "outputs": [
    {
     "ename": "IndexError",
     "evalue": "list index out of range",
     "output_type": "error",
     "traceback": [
      "\u001b[1;31m---------------------------------------------------------------------------\u001b[0m",
      "\u001b[1;31mIndexError\u001b[0m                                Traceback (most recent call last)",
      "Cell \u001b[1;32mIn[99], line 1\u001b[0m\n\u001b[1;32m----> 1\u001b[0m \u001b[43mGabaritoFormatter\u001b[49m\u001b[43m(\u001b[49m\u001b[43mgabarito_oab\u001b[49m\u001b[43m)\u001b[49m\n",
      "Cell \u001b[1;32mIn[97], line 17\u001b[0m, in \u001b[0;36mGabaritoFormatter\u001b[1;34m(gabarito_raw)\u001b[0m\n\u001b[0;32m     15\u001b[0m \u001b[38;5;28;01mfor\u001b[39;00m i \u001b[38;5;129;01min\u001b[39;00m \u001b[38;5;28mrange\u001b[39m(\u001b[38;5;241m0\u001b[39m, \u001b[38;5;28mlen\u001b[39m(lines_trimmed), \u001b[38;5;241m2\u001b[39m):\n\u001b[0;32m     16\u001b[0m     numbers \u001b[38;5;241m=\u001b[39m lines_trimmed[i]\u001b[38;5;241m.\u001b[39msplit()\n\u001b[1;32m---> 17\u001b[0m     leters \u001b[38;5;241m=\u001b[39m \u001b[43mlines_trimmed\u001b[49m\u001b[43m[\u001b[49m\u001b[43mi\u001b[49m\u001b[38;5;241;43m+\u001b[39;49m\u001b[38;5;241;43m1\u001b[39;49m\u001b[43m]\u001b[49m\u001b[38;5;241m.\u001b[39msplit()\n\u001b[0;32m     19\u001b[0m     \u001b[38;5;28;01mfor\u001b[39;00m number, leter \u001b[38;5;129;01min\u001b[39;00m \u001b[38;5;28mzip\u001b[39m(numbers, leters):\n\u001b[0;32m     20\u001b[0m         \u001b[38;5;28;01mif\u001b[39;00m leter \u001b[38;5;241m==\u001b[39m \u001b[38;5;124m'\u001b[39m\u001b[38;5;124m*\u001b[39m\u001b[38;5;124m'\u001b[39m:\n",
      "\u001b[1;31mIndexError\u001b[0m: list index out of range"
     ]
    }
   ],
   "source": [
    "GabaritoFormatter(gabarito_oab)"
   ]
  }
 ],
 "metadata": {
  "kernelspec": {
   "display_name": "pinecone-ingestor-env",
   "language": "python",
   "name": "python3"
  },
  "language_info": {
   "codemirror_mode": {
    "name": "ipython",
    "version": 3
   },
   "file_extension": ".py",
   "mimetype": "text/x-python",
   "name": "python",
   "nbconvert_exporter": "python",
   "pygments_lexer": "ipython3",
   "version": "3.9.6"
  }
 },
 "nbformat": 4,
 "nbformat_minor": 5
}
