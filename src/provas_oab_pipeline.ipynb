{
 "cells": [
  {
   "cell_type": "code",
   "execution_count": 1,
   "id": "0a0dd3c2",
   "metadata": {},
   "outputs": [],
   "source": [
    "import pandas as pd\n",
    "from data_loading import DataLoader\n",
    "from preprocess import ConvertToMarkdown, SplitDocuments\n",
    "from openai_utils import OpenAIEmbeddingClient, GenerateEmbeddings\n",
    "from pinecone_utils import PineconeIndexClient, IngestEmbeddingsToPinecone\n",
    "from oab_test_utils import OABTestFormatter, OABAnswersFormatter\n",
    "import os\n",
    "from dotenv import load_dotenv"
   ]
  },
  {
   "cell_type": "code",
   "execution_count": 2,
   "id": "c8e50ffd",
   "metadata": {},
   "outputs": [],
   "source": [
    "gabarito_oab = ConvertToMarkdown(DataLoader('D:\\\\Users\\\\Gabriel\\\\Desktop\\\\GIT\\\\pinecone-ingestor\\\\documentos_ingest\\\\provas\\\\40_gabarito.pdf'))"
   ]
  },
  {
   "cell_type": "code",
   "execution_count": 3,
   "id": "d5f342d8",
   "metadata": {},
   "outputs": [
    {
     "name": "stdout",
     "output_type": "stream",
     "text": [
      "['## Conselho federal da ordem dos advogados do brasil\\n40º EXAME DE ORDEM UNIFICADO\\n## Gabaritos definitivos – provas do dia 24/03/2024\\nPágina 1 de 2\\n40º EXAME DE ORDEM UNIFICADO - TIPO 1\\n1 2 3 4 5 6 7 8 9 10 11 12 13 14 15 16 17 18 19 20\\n## B c a c * c d a b c b d b b b d a b d a\\n21 22 23 24 25 26 27 28 29 30 31 32 33 34 35 36 37 38 39 40\\n## D b a c a c d d b c d b d d a c b c c b\\n41 42 43 44 45 46 47 48 49 50 51 52 53 54 55 56 57 58 59 60\\n## C a d c d c b a a c b d b a d c a b d a\\n61 62 63 64 65 66 67 68 69 70 71 72 73 74 75 76 77 78 79 80\\n## D a c c a b a b c a b a c d d d c c b a\\n(*) Questão anulada\\n40º EXAME DE ORDEM UNIFICADO - TIPO 2\\n1 2 3 4 5 6 7 8 9 10 11 12 13 14 15 16 17 18 19 20\\n## A a d c c c * b c b b b d b d b b a a d\\n21 22 23 24 25 26 27 28 29 30 31 32 33 34 35 36 37 38 39 40\\n## B d c a d d c b a d c d b d c a b c a b\\n41 42 43 44 45 46 47 48 49 50 51 52 53 54 55 56 57 58 59 60\\n## C c c d c d a b c a b b d c a d a a b d\\n61 62 63 64 65 66 67 68 69 70 71 72 73 74 75 76 77 78 79 80\\n## A d a c c b b a a c d d b a c c b a c d\\n(*) Questão anulada\\n40º EXAME DE ORDEM UNIFICADO - TIPO 3\\n1 2 3 4 5 6 7 8 9 10 11 12 13 14 15 16 17 18 19 20\\n## C b a d c * c a b c b b d d b b a b d a\\n21 22 23 24 25 26 27 28 29 30 31 32 33 34 35 36 37 38 39 40\\n## B d a c d a b d c d d c d b a c c b c a\\n41 42 43 44 45 46 47 48 49 50 51 52 53 54 55 56 57 58 59 60\\n## B c c d c d a c b a a d c b d b d a a b\\n61 62 63 64 65 66 67 68 69 70 71 72 73 74 75 76 77 78 79 80\\n## D a b a b c c a c a d d a c b c a b d c\\n(*) Questão anulada\\n40º EXAME DE ORDEM UNIFICADO - TIPO 4\\n1 2 3 4 5 6 7 8 9 10 11 12 13 14 15 16 17 18 19 20\\n## C * c c a b a d c b d b b b b d b a a d\\n21 22 23 24 25 26 27 28 29 30 31 32 33 34 35 36 37 38 39 40\\n## D b c a b d a c d b d d c d c a a b c c\\n41 42 43 44 45 46 47 48 49 50 51 52 53 54 55 56 57 58 59 60\\n## B c d c d c c a a b c a d b b d a d a a\\n61 62 63 64 65 66 67 68 69 70 71 72 73 74 75 76 77 78 79 80\\n## B d a b b a c c a c a c d b d a d c c b\\n(*) Questão anulada', '## Conselho federal da ordem dos advogados do brasil\\n40º EXAME DE ORDEM UNIFICADO\\n## Gabaritos definitivos – provas do dia 24/03/2024\\nPágina 2 de 2\\n## Tabela de correspondência de questões\\nComo consultar esta tabela:  Mostramos em cada linha a numeração da questão na prova de Tipo 1 e sua\\ncorrespondência nos tipos 2, 3 e 4.\\nExemplo: na linha da 41ª questão da prova de Tipo 1 temos os numerais 41, 38, 42 e 39; isto significa que a questão 41\\nda prova de Tipo 1 se apresenta como questão 38, 42 e 39 nas provas de Tipo 2, Tipo 3 e Tipo 4, respectivamente.\\n## Tipo 1 tipo 2 tipo 3 tipo 4  tipo 1 tipo 2 tipo 3 tipo 4\\n1 8 2 6  41 38 42 39\\n2 6 5 4  42 39 40 37\\n3 2 8 7  43 44 44 43\\n4 5 7 1  44 43 43 44\\n5 7 6 2  45 46 46 45\\n6 4 1 3  46 45 45 46\\n7 3 4 8  47 48 49 50\\n8 1 3 5  48 47 50 49\\n9 10 9 10  49 50 47 48\\n10 9 10 9  50 49 48 47\\n11 16 15 12  51 52 54 55\\n12 13 14 11  52 53 55 56\\n13 14 11 15  53 51 56 54\\n14 11 12 13  54 55 51 52\\n15 12 16 14  55 56 52 53\\n16 15 13 16  56 54 53 51\\n17 18 17 18  57 58 59 60\\n18 17 18 17  58 59 60 61\\n19 20 19 20  59 60 61 62\\n20 19 20 19  60 61 62 57\\n21 22 22 21  61 62 57 58\\n22 21 21 22  62 57 58 59\\n23 24 23 24  63 64 66 67\\n24 23 24 23  64 65 67 68\\n25 29 26 27  65 63 68 66\\n26 27 29 28  66 67 63 65\\n27 25 28 26  67 68 64 63\\n28 26 25 29  68 66 65 64\\n29 28 27 25  69 70 69 70\\n30 31 32 33  70 69 70 69\\n31 32 33 34  71 73 75 74\\n32 33 34 30  72 74 73 71\\n33 34 30 31  73 75 74 72\\n34 30 31 32  74 72 71 75\\n35 36 35 36  75 71 72 73\\n36 35 36 35  76 80 79 77\\n37 40 38 41  77 79 76 78\\n38 41 39 42  78 76 80 79\\n39 42 37 40  79 77 78 80\\n40 37 41 38  80 78 77 76']\n"
     ]
    }
   ],
   "source": [
    "print(gabarito_oab)"
   ]
  },
  {
   "cell_type": "code",
   "execution_count": 4,
   "id": "6bfcaceb",
   "metadata": {},
   "outputs": [
    {
     "name": "stdout",
     "output_type": "stream",
     "text": [
      "[{'pergunta': 1, 'resposta': 'b'},\n",
      " {'pergunta': 2, 'resposta': 'c'},\n",
      " {'pergunta': 3, 'resposta': 'a'},\n",
      " {'pergunta': 4, 'resposta': 'c'},\n",
      " {'pergunta': 5, 'resposta': '*'},\n",
      " {'pergunta': 6, 'resposta': 'c'},\n",
      " {'pergunta': 7, 'resposta': 'd'},\n",
      " {'pergunta': 8, 'resposta': 'a'},\n",
      " {'pergunta': 9, 'resposta': 'b'},\n",
      " {'pergunta': 10, 'resposta': 'c'},\n",
      " {'pergunta': 11, 'resposta': 'b'},\n",
      " {'pergunta': 12, 'resposta': 'd'},\n",
      " {'pergunta': 13, 'resposta': 'b'},\n",
      " {'pergunta': 14, 'resposta': 'b'},\n",
      " {'pergunta': 15, 'resposta': 'b'},\n",
      " {'pergunta': 16, 'resposta': 'd'},\n",
      " {'pergunta': 17, 'resposta': 'a'},\n",
      " {'pergunta': 18, 'resposta': 'b'},\n",
      " {'pergunta': 19, 'resposta': 'd'},\n",
      " {'pergunta': 20, 'resposta': 'a'},\n",
      " {'pergunta': 21, 'resposta': 'd'},\n",
      " {'pergunta': 22, 'resposta': 'b'},\n",
      " {'pergunta': 23, 'resposta': 'a'},\n",
      " {'pergunta': 24, 'resposta': 'c'},\n",
      " {'pergunta': 25, 'resposta': 'a'},\n",
      " {'pergunta': 26, 'resposta': 'c'},\n",
      " {'pergunta': 27, 'resposta': 'd'},\n",
      " {'pergunta': 28, 'resposta': 'd'},\n",
      " {'pergunta': 29, 'resposta': 'b'},\n",
      " {'pergunta': 30, 'resposta': 'c'},\n",
      " {'pergunta': 31, 'resposta': 'd'},\n",
      " {'pergunta': 32, 'resposta': 'b'},\n",
      " {'pergunta': 33, 'resposta': 'd'},\n",
      " {'pergunta': 34, 'resposta': 'd'},\n",
      " {'pergunta': 35, 'resposta': 'a'},\n",
      " {'pergunta': 36, 'resposta': 'c'},\n",
      " {'pergunta': 37, 'resposta': 'b'},\n",
      " {'pergunta': 38, 'resposta': 'c'},\n",
      " {'pergunta': 39, 'resposta': 'c'},\n",
      " {'pergunta': 40, 'resposta': 'b'},\n",
      " {'pergunta': 41, 'resposta': 'c'},\n",
      " {'pergunta': 42, 'resposta': 'a'},\n",
      " {'pergunta': 43, 'resposta': 'd'},\n",
      " {'pergunta': 44, 'resposta': 'c'},\n",
      " {'pergunta': 45, 'resposta': 'd'},\n",
      " {'pergunta': 46, 'resposta': 'c'},\n",
      " {'pergunta': 47, 'resposta': 'b'},\n",
      " {'pergunta': 48, 'resposta': 'a'},\n",
      " {'pergunta': 49, 'resposta': 'a'},\n",
      " {'pergunta': 50, 'resposta': 'c'},\n",
      " {'pergunta': 51, 'resposta': 'b'},\n",
      " {'pergunta': 52, 'resposta': 'd'},\n",
      " {'pergunta': 53, 'resposta': 'b'},\n",
      " {'pergunta': 54, 'resposta': 'a'},\n",
      " {'pergunta': 55, 'resposta': 'd'},\n",
      " {'pergunta': 56, 'resposta': 'c'},\n",
      " {'pergunta': 57, 'resposta': 'a'},\n",
      " {'pergunta': 58, 'resposta': 'b'},\n",
      " {'pergunta': 59, 'resposta': 'd'},\n",
      " {'pergunta': 60, 'resposta': 'a'},\n",
      " {'pergunta': 61, 'resposta': 'd'},\n",
      " {'pergunta': 62, 'resposta': 'a'},\n",
      " {'pergunta': 63, 'resposta': 'c'},\n",
      " {'pergunta': 64, 'resposta': 'c'},\n",
      " {'pergunta': 65, 'resposta': 'a'},\n",
      " {'pergunta': 66, 'resposta': 'b'},\n",
      " {'pergunta': 67, 'resposta': 'a'},\n",
      " {'pergunta': 68, 'resposta': 'b'},\n",
      " {'pergunta': 69, 'resposta': 'c'},\n",
      " {'pergunta': 70, 'resposta': 'a'},\n",
      " {'pergunta': 71, 'resposta': 'b'},\n",
      " {'pergunta': 72, 'resposta': 'a'},\n",
      " {'pergunta': 73, 'resposta': 'c'},\n",
      " {'pergunta': 74, 'resposta': 'd'},\n",
      " {'pergunta': 75, 'resposta': 'd'},\n",
      " {'pergunta': 76, 'resposta': 'd'},\n",
      " {'pergunta': 77, 'resposta': 'c'},\n",
      " {'pergunta': 78, 'resposta': 'c'},\n",
      " {'pergunta': 79, 'resposta': 'b'},\n",
      " {'pergunta': 80, 'resposta': 'a'}]\n"
     ]
    }
   ],
   "source": [
    "from pprint import pprint\n",
    "gabarito_tipo1 = OABAnswersFormatter(gabarito_oab)\n",
    "pprint(gabarito_tipo1)"
   ]
  }
 ],
 "metadata": {
  "kernelspec": {
   "display_name": "pinecone-ingestor-env",
   "language": "python",
   "name": "python3"
  },
  "language_info": {
   "codemirror_mode": {
    "name": "ipython",
    "version": 3
   },
   "file_extension": ".py",
   "mimetype": "text/x-python",
   "name": "python",
   "nbconvert_exporter": "python",
   "pygments_lexer": "ipython3",
   "version": "3.9.6"
  }
 },
 "nbformat": 4,
 "nbformat_minor": 5
}
